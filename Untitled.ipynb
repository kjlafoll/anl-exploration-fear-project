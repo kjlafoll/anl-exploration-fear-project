{
 "cells": [
  {
   "cell_type": "code",
   "execution_count": 4,
   "metadata": {
    "scrolled": false
   },
   "outputs": [
    {
     "data": {
      "text/html": [
       "\n",
       "<div id=\"altair-viz-c167c1d0ae0142b085f0649e915aeea7\"></div>\n",
       "<script type=\"text/javascript\">\n",
       "  (function(spec, embedOpt){\n",
       "    let outputDiv = document.currentScript.previousElementSibling;\n",
       "    if (outputDiv.id !== \"altair-viz-c167c1d0ae0142b085f0649e915aeea7\") {\n",
       "      outputDiv = document.getElementById(\"altair-viz-c167c1d0ae0142b085f0649e915aeea7\");\n",
       "    }\n",
       "    const paths = {\n",
       "      \"vega\": \"https://cdn.jsdelivr.net/npm//vega@5?noext\",\n",
       "      \"vega-lib\": \"https://cdn.jsdelivr.net/npm//vega-lib?noext\",\n",
       "      \"vega-lite\": \"https://cdn.jsdelivr.net/npm//vega-lite@4.8.1?noext\",\n",
       "      \"vega-embed\": \"https://cdn.jsdelivr.net/npm//vega-embed@6?noext\",\n",
       "    };\n",
       "\n",
       "    function loadScript(lib) {\n",
       "      return new Promise(function(resolve, reject) {\n",
       "        var s = document.createElement('script');\n",
       "        s.src = paths[lib];\n",
       "        s.async = true;\n",
       "        s.onload = () => resolve(paths[lib]);\n",
       "        s.onerror = () => reject(`Error loading script: ${paths[lib]}`);\n",
       "        document.getElementsByTagName(\"head\")[0].appendChild(s);\n",
       "      });\n",
       "    }\n",
       "\n",
       "    function showError(err) {\n",
       "      outputDiv.innerHTML = `<div class=\"error\" style=\"color:red;\">${err}</div>`;\n",
       "      throw err;\n",
       "    }\n",
       "\n",
       "    function displayChart(vegaEmbed) {\n",
       "      vegaEmbed(outputDiv, spec, embedOpt)\n",
       "        .catch(err => showError(`Javascript Error: ${err.message}<br>This usually means there's a typo in your chart specification. See the javascript console for the full traceback.`));\n",
       "    }\n",
       "\n",
       "    if(typeof define === \"function\" && define.amd) {\n",
       "      requirejs.config({paths});\n",
       "      require([\"vega-embed\"], displayChart, err => showError(`Error loading script: ${err.message}`));\n",
       "    } else if (typeof vegaEmbed === \"function\") {\n",
       "      displayChart(vegaEmbed);\n",
       "    } else {\n",
       "      loadScript(\"vega\")\n",
       "        .then(() => loadScript(\"vega-lite\"))\n",
       "        .then(() => loadScript(\"vega-embed\"))\n",
       "        .catch(showError)\n",
       "        .then(() => displayChart(vegaEmbed));\n",
       "    }\n",
       "  })({\"config\": {\"view\": {\"continuousWidth\": 400, \"continuousHeight\": 300}}, \"data\": {\"name\": \"data-6b48f3ba69ba9b194045264dc1d33cea\"}, \"mark\": \"bar\", \"encoding\": {\"x\": {\"type\": \"temporal\", \"field\": \"Start date\"}, \"x2\": {\"field\": \"End date\"}, \"y\": {\"type\": \"nominal\", \"field\": \"Task Name\", \"sort\": [\"Draft preregistration for Study 1 Phase 1\", \"Collect/clean data for Study 1 Phase 1\", \"Develop models for Study 2 Phase 1\", \"Analyze Study 1 Phase 1 data\", \"Draft preregistration for Study 2 Phase 1\", \"Fit models to Study 1 Phase 1 data\", \"Submit master's thesis proposal\", \"Prepare manuscript for Phase 1\", \"Draft preregistration for Study 1 Phase 2\", \"Draft thesis chapter 2 \\\"Lit Review\\\"\", \"Collect/clean data for Study 1 Phase 2\", \"Develop models for Study 2 Phases 2-3\", \"Analyze Study 1 Phase 2 data\", \"Draft thesis chapter 3 \\\"Method\\\"\", \"Draft preregistration for S2P2 & S1+2P3\", \"Draft thesis chapter 4 \\\"Results\\\"\", \"Collect/clean data for Study 1 Phase 3\", \"Draft preregistration for Study 1 Phase 4\", \"Draft thesis chapter 5 \\\"Discussion\\\"\", \"Fit models to Study 1 Phases 2-3 data\", \"Analyze Study 1 Phase 3 data\", \"Revise chapter 4 \\\"Results\\\" for Phase 3\", \"Prepare manuscript for Phase 2\", \"Draft thesis chapter 1 \\\"Introduction\", \"Collect data for Study 1 Phase 4\", \"Develop models for Study 2 Phase 4\", \"Prepare manuscript for Phase 3\", \"Analyze Study 1 Phase 4 data\", \"Fit models to Study 1 Phase 4 data\", \"Revise thesis for submission + Phase 4\", \"Submit master's thesis\", \"Prepare manuscript for Phase 4\"]}}, \"$schema\": \"https://vega.github.io/schema/vega-lite/v4.8.1.json\", \"datasets\": {\"data-6b48f3ba69ba9b194045264dc1d33cea\": [{\"Task Name\": \"Draft preregistration for Study 1 Phase 1\", \"Start date\": \"2021-04-01T00:00:00\", \"End date\": \"2021-05-01T00:00:00\"}, {\"Task Name\": \"Develop models for Study 2 Phase 1\", \"Start date\": \"2021-04-01T00:00:00\", \"End date\": \"2021-07-01T00:00:00\"}, {\"Task Name\": \"Collect/clean data for Study 1 Phase 1\", \"Start date\": \"2021-05-01T00:00:00\", \"End date\": \"2021-06-01T00:00:00\"}, {\"Task Name\": \"Analyze Study 1 Phase 1 data\", \"Start date\": \"2021-06-01T00:00:00\", \"End date\": \"2021-07-01T00:00:00\"}, {\"Task Name\": \"Draft preregistration for Study 2 Phase 1\", \"Start date\": \"2021-06-01T00:00:00\", \"End date\": \"2021-07-01T00:00:00\"}, {\"Task Name\": \"Fit models to Study 1 Phase 1 data\", \"Start date\": \"2021-07-01T00:00:00\", \"End date\": \"2021-08-01T00:00:00\"}, {\"Task Name\": \"Prepare manuscript for Phase 1\", \"Start date\": \"2021-07-01T00:00:00\", \"End date\": \"2021-09-01T00:00:00\"}, {\"Task Name\": \"Submit master's thesis proposal\", \"Start date\": \"2021-07-01T00:00:00\", \"End date\": \"2021-08-01T00:00:00\"}, {\"Task Name\": \"Draft preregistration for Study 1 Phase 2\", \"Start date\": \"2021-08-01T00:00:00\", \"End date\": \"2021-09-01T00:00:00\"}, {\"Task Name\": \"Draft thesis chapter 2 \\\"Lit Review\\\"\", \"Start date\": \"2021-08-01T00:00:00\", \"End date\": \"2021-10-01T00:00:00\"}, {\"Task Name\": \"Develop models for Study 2 Phases 2-3\", \"Start date\": \"2021-08-01T00:00:00\", \"End date\": \"2021-11-01T00:00:00\"}, {\"Task Name\": \"Collect/clean data for Study 1 Phase 2\", \"Start date\": \"2021-09-01T00:00:00\", \"End date\": \"2021-10-01T00:00:00\"}, {\"Task Name\": \"Analyze Study 1 Phase 2 data\", \"Start date\": \"2021-10-01T00:00:00\", \"End date\": \"2021-11-01T00:00:00\"}, {\"Task Name\": \"Draft thesis chapter 3 \\\"Method\\\"\", \"Start date\": \"2021-10-01T00:00:00\", \"End date\": \"2021-11-01T00:00:00\"}, {\"Task Name\": \"Draft preregistration for S2P2 & S1+2P3\", \"Start date\": \"2021-10-01T00:00:00\", \"End date\": \"2021-11-01T00:00:00\"}, {\"Task Name\": \"Collect/clean data for Study 1 Phase 3\", \"Start date\": \"2021-11-01T00:00:00\", \"End date\": \"2021-12-01T00:00:00\"}, {\"Task Name\": \"Draft thesis chapter 4 \\\"Results\\\"\", \"Start date\": \"2021-11-01T00:00:00\", \"End date\": \"2021-11-15T00:00:00\"}, {\"Task Name\": \"Draft preregistration for Study 1 Phase 4\", \"Start date\": \"2021-11-01T00:00:00\", \"End date\": \"2021-12-01T00:00:00\"}, {\"Task Name\": \"Draft thesis chapter 5 \\\"Discussion\\\"\", \"Start date\": \"2021-11-01T00:00:00\", \"End date\": \"2022-01-01T00:00:00\"}, {\"Task Name\": \"Fit models to Study 1 Phases 2-3 data\", \"Start date\": \"2021-11-01T00:00:00\", \"End date\": \"2022-01-01T00:00:00\"}, {\"Task Name\": \"Analyze Study 1 Phase 3 data\", \"Start date\": \"2021-12-01T00:00:00\", \"End date\": \"2022-01-01T00:00:00\"}, {\"Task Name\": \"Revise chapter 4 \\\"Results\\\" for Phase 3\", \"Start date\": \"2021-12-01T00:00:00\", \"End date\": \"2022-01-01T00:00:00\"}, {\"Task Name\": \"Collect data for Study 1 Phase 4\", \"Start date\": \"2022-01-01T00:00:00\", \"End date\": \"2022-04-01T00:00:00\"}, {\"Task Name\": \"Develop models for Study 2 Phase 4\", \"Start date\": \"2022-01-01T00:00:00\", \"End date\": \"2022-04-01T00:00:00\"}, {\"Task Name\": \"Prepare manuscript for Phase 2\", \"Start date\": \"2022-01-01T00:00:00\", \"End date\": \"2022-03-01T00:00:00\"}, {\"Task Name\": \"Draft thesis chapter 1 \\\"Introduction\", \"Start date\": \"2022-02-01T00:00:00\", \"End date\": \"2022-03-01T00:00:00\"}, {\"Task Name\": \"Revise thesis for submission + Phase 4\", \"Start date\": \"2022-03-01T00:00:00\", \"End date\": \"2022-06-01T00:00:00\"}, {\"Task Name\": \"Prepare manuscript for Phase 3\", \"Start date\": \"2022-03-01T00:00:00\", \"End date\": \"2022-05-01T00:00:00\"}, {\"Task Name\": \"Analyze Study 1 Phase 4 data\", \"Start date\": \"2022-04-01T00:00:00\", \"End date\": \"2022-05-01T00:00:00\"}, {\"Task Name\": \"Fit models to Study 1 Phase 4 data\", \"Start date\": \"2022-04-01T00:00:00\", \"End date\": \"2022-05-01T00:00:00\"}, {\"Task Name\": \"Submit master's thesis\", \"Start date\": \"2022-06-01T00:00:00\", \"End date\": \"2022-07-01T00:00:00\"}, {\"Task Name\": \"Prepare manuscript for Phase 4\", \"Start date\": \"2022-06-01T00:00:00\", \"End date\": \"2022-08-01T00:00:00\"}]}}, {\"mode\": \"vega-lite\"});\n",
       "</script>"
      ],
      "text/plain": [
       "alt.Chart(...)"
      ]
     },
     "execution_count": 4,
     "metadata": {},
     "output_type": "execute_result"
    }
   ],
   "source": [
    "import pandas as pd\n",
    "import numpy as np\n",
    "import altair as alt\n",
    "# alt.renderers.enable('notebook') # if in jupyter\n",
    "\n",
    "df = pd.read_csv(\"gantt.csv\")\n",
    "df[\"Start date\"] = pd.to_datetime(df[\"Start date\"])\n",
    "df[\"End date\"] = pd.to_datetime(df[\"End date\"])\n",
    "\n",
    "chart = alt.Chart(df).mark_bar().encode(\n",
    "    x='Start date',\n",
    "    x2='End date',\n",
    "    y=alt.Y('Task Name', \n",
    "            sort=list(df.sort_values([\"End date\", \"Start date\"])\n",
    "                                    [\"Task Name\"])), # Custom sorting\n",
    ")\n",
    "\n",
    "chart"
   ]
  },
  {
   "cell_type": "code",
   "execution_count": 16,
   "metadata": {},
   "outputs": [
    {
     "data": {
      "text/plain": [
       "Task Name     Draft preregistration for Study 1 Phase 1\n",
       "Start date                          2021-04-01 00:00:00\n",
       "End date                            2021-05-01 00:00:00\n",
       "Name: 0, dtype: object"
      ]
     },
     "execution_count": 16,
     "metadata": {},
     "output_type": "execute_result"
    }
   ],
   "source": [
    "df.iloc[0]"
   ]
  },
  {
   "cell_type": "code",
   "execution_count": null,
   "metadata": {},
   "outputs": [],
   "source": []
  }
 ],
 "metadata": {
  "kernelspec": {
   "display_name": "Python 3",
   "language": "python",
   "name": "python3"
  },
  "language_info": {
   "codemirror_mode": {
    "name": "ipython",
    "version": 3
   },
   "file_extension": ".py",
   "mimetype": "text/x-python",
   "name": "python",
   "nbconvert_exporter": "python",
   "pygments_lexer": "ipython3",
   "version": "3.8.3"
  }
 },
 "nbformat": 4,
 "nbformat_minor": 4
}
